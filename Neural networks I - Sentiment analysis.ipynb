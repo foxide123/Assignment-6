{
 "cells": [
  {
   "cell_type": "markdown",
   "id": "5bc9be56",
   "metadata": {},
   "source": [
    "## Sentiment Analysis"
   ]
  },
  {
   "cell_type": "markdown",
   "id": "818b3b52",
   "metadata": {},
   "source": [
    "In this exercise we use the IMDb-dataset, which we will use to perform a sentiment analysis. The code below assumes that the data is placed in the same folder as this notebook. We see that the reviews are loaded as a pandas dataframe, and print the beginning of the first few reviews."
   ]
  },
  {
   "cell_type": "code",
   "execution_count": 45,
   "id": "67da3bc0",
   "metadata": {},
   "outputs": [
    {
     "name": "stderr",
     "output_type": "stream",
     "text": [
      "[nltk_data] Downloading package punkt to\n",
      "[nltk_data]     C:\\Users\\kubak\\AppData\\Roaming\\nltk_data...\n",
      "[nltk_data]   Package punkt is already up-to-date!\n"
     ]
    },
    {
     "name": "stdout",
     "output_type": "stream",
     "text": [
      "Positive reviews count:  12500\n",
      "Negative reviews count:  12500\n"
     ]
    },
    {
     "data": {
      "image/png": "[encoded data removed]",
      "text/plain": [
       "<Figure size 800x400 with 1 Axes>"
      ]
     },
     "metadata": {},
     "output_type": "display_data"
    },
    {
     "name": "stdout",
     "output_type": "stream",
     "text": [
      "                                              ReviewText  Label\n",
      "0      bromwell high is a cartoon comedy . it ran at ...      1\n",
      "1      story of a man who has unnatural feelings for ...      0\n",
      "2      homelessness  or houselessness as george carli...      1\n",
      "3      airport    starts as a brand new luxury    pla...      0\n",
      "4      brilliant over  acting by lesley ann warren . ...      1\n",
      "...                                                  ...    ...\n",
      "24995  i saw  descent  last night at the stockholm fi...      0\n",
      "24996  a christmas together actually came before my t...      1\n",
      "24997  some films that you pick up for a pound turn o...      0\n",
      "24998  working  class romantic drama from director ma...      1\n",
      "24999  this is one of the dumbest films  i  ve ever s...      0\n",
      "\n",
      "[25000 rows x 2 columns]\n"
     ]
    }
   ],
   "source": [
    "import numpy as np\n",
    "import pandas as pd\n",
    "import re\n",
    "import string\n",
    "string.punctuation\n",
    "from gensim import corpora\n",
    "from sklearn.model_selection import train_test_split\n",
    "from sklearn.feature_extraction.text import CountVectorizer, TfidfVectorizer\n",
    "import matplotlib.pyplot as plt\n",
    "from sklearn.neural_network import MLPClassifier\n",
    "from nltk.tokenize import word_tokenize\n",
    "from nltk.tokenize import sent_tokenize\n",
    "import nltk\n",
    "from gensim.models import Word2Vec\n",
    "from sklearn.metrics import accuracy_score\n",
    "nltk.download('punkt')\n",
    "\n",
    "reviews = pd.read_csv('reviews.txt', header=None)\n",
    "labels = pd.read_csv('labels.txt', header=None)\n",
    "\n",
    "reviews.columns = ['ReviewText']\n",
    "labels.columns = ['Label']\n",
    "\n",
    "Y = (labels['Label']=='positive').astype(np.int_)\n",
    "\n",
    "\n",
    "positive_reviews_count = Y.sum()\n",
    "negative_reviews_count = Y.size - positive_reviews_count\n",
    "\n",
    "data = pd.concat([reviews, Y], axis=1)\n",
    "\n",
    "print(\"Positive reviews count: \", positive_reviews_count)\n",
    "print(\"Negative reviews count: \", negative_reviews_count)\n",
    "\n",
    "plt.figure(figsize=(8, 4))\n",
    "plt.bar(['Positive', 'Negative'], [positive_reviews_count, negative_reviews_count], color=['green', 'red'])\n",
    "plt.xlabel('Sentiment')\n",
    "plt.ylabel('Number of Reviews')\n",
    "plt.title('Positive and Negative Reviews')\n",
    "plt.show()\n",
    "\n",
    "print(data)\n",
    "\n",
    "Y = Y.values.reshape(-1, 1)"
   ]
  },
  {
   "cell_type": "markdown",
   "id": "4982b946",
   "metadata": {},
   "source": [
    "**(a)** Split the reviews and labels in test, train and validation sets. The train and validation sets will be used to train your model and tune hyperparameters, the test set will be saved for testing. Use the `CountVectorizer` from `sklearn.feature_extraction.text` to create a Bag-of-Words representation of the reviews. Only use the 10,000 most frequent words (use the `max_features`-parameter of `CountVectorizer`)."
   ]
  },
  {
   "cell_type": "markdown",
   "id": "ebf07ee9",
   "metadata": {},
   "source": [
    "**(b)** Explore the representation of the reviews. How is a single word represented? How about a whole review?"
   ]
  },
  {
   "cell_type": "markdown",
   "id": "c2638fce",
   "metadata": {},
   "source": [
    "**(c)** Train a neural network with a single hidden layer on the dataset, tuning the relevant hyperparameters to optimize accuracy. "
   ]
  },
  {
   "cell_type": "markdown",
   "id": "1fd327a6",
   "metadata": {},
   "source": [
    "**(d)** Test your sentiment-classifier on the test set."
   ]
  },
  {
   "cell_type": "markdown",
   "id": "fd44ee62",
   "metadata": {},
   "source": [
    "**(e)** Use the classifier to classify a few sentences you write yourselves. "
   ]
  },
  {
   "cell_type": "code",
   "execution_count": 46,
   "id": "a1ef2970",
   "metadata": {},
   "outputs": [],
   "source": [
    "stop_words = [\"i\", \"me\", \"my\", \"myself\", \"we\", \"our\", \"ours\", \"ourselves\", \"you\", \"your\", \"yours\", \"yourself\",\n",
    "              \"yourselves\", \"he\", \"him\", \"his\", \"himself\", \"she\", \"her\", \"hers\", \"herself\", \"it\", \"its\", \"itself\",\n",
    "              \"they\", \"them\", \"their\", \"theirs\", \"themselves\", \"what\", \"which\", \"who\", \"whom\", \"this\", \"that\", \"these\",\n",
    "              \"those\", \"am\", \"is\", \"are\", \"was\", \"were\", \"be\", \"been\", \"being\", \"have\", \"has\", \"had\", \"having\", \"do\",\n",
    "              \"does\", \"did\", \"doing\", \"a\", \"an\", \"the\", \"and\", \"but\", \"if\", \"or\", \"because\", \"as\", \"until\", \"while\",\n",
    "              \"of\", \"at\", \"by\", \"for\", \"with\", \"about\", \"against\", \"between\", \"into\", \"through\", \"during\", \"before\",\n",
    "              \"after\", \"above\", \"below\", \"to\", \"from\", \"up\", \"down\", \"in\", \"out\", \"on\", \"off\", \"over\", \"under\", \"again\",\n",
    "              \"further\", \"then\", \"once\", \"here\", \"there\", \"when\", \"where\", \"why\", \"how\", \"all\", \"any\", \"both\", \"each\",\n",
    "              \"few\", \"more\", \"most\", \"other\", \"some\", \"such\", \"no\", \"nor\", \"not\", \"only\", \"own\", \"same\", \"so\", \"than\",\n",
    "              \"too\", \"very\", \"s\", \"t\", \"can\", \"will\", \"just\", \"don\", \"should\", \"now\"]\n"
   ]
  },
  {
   "cell_type": "markdown",
   "id": "e5a7ad70",
   "metadata": {},
   "source": [
    "Cleaning text"
   ]
  },
  {
   "cell_type": "code",
   "execution_count": 47,
   "id": "01ab424e",
   "metadata": {},
   "outputs": [
    {
     "name": "stdout",
     "output_type": "stream",
     "text": [
      "bromwell high   cartoon comedy   ran    time    programs  school life     teachers      years   teaching profession lead   believe  bromwell high   satire  much closer  reality    teachers    scramble  survive financially   insightful students   see right   pathetic teachers  pomp   pettiness   whole situation   remind    schools  knew   students    saw  episode    student repeatedly tried  burn   school   immediately recalled                     high   classic line inspector   m   sack one   teachers  student welcome  bromwell high   expect  many adults   age think  bromwell high  far fetched    pity   isn     \n"
     ]
    }
   ],
   "source": [
    "#Removing stop words\n",
    "cleaned_reviews = []\n",
    "reviews_sentences_tokenized = []\n",
    "reviews_words_tokenized = []\n",
    "pattern = r'\\b(' + '|'.join(stop_words) + r')\\b'\n",
    "for i, review in enumerate(data['ReviewText']):\n",
    "    review = re.sub(pattern, '', review, flags=re.IGNORECASE)\n",
    "    reviews_sentences_tokenized.append(sent_tokenize(review))\n",
    "    review = re.sub(r'[^\\w\\s]', '', review)\n",
    "    data.at[i, 'ReviewText'] = review\n",
    "    cleaned_reviews.append(review)\n",
    "    reviews_words_tokenized.append(word_tokenize(review))\n",
    "print(cleaned_reviews[0])"
   ]
  },
  {
   "cell_type": "markdown",
   "id": "9f428b97",
   "metadata": {},
   "source": [
    "Building dictionary"
   ]
  },
  {
   "cell_type": "code",
   "execution_count": 37,
   "id": "faffed74",
   "metadata": {},
   "outputs": [
    {
     "name": "stdout",
     "output_type": "stream",
     "text": [
      "Total unique words:\n",
      "73944\n",
      "\n",
      "Sample data from dictionary:\n",
      "Word: adults - ID: 0 \n",
      "Word: age - ID: 1 \n",
      "Word: believe - ID: 2 \n",
      "Word: bromwell - ID: 3 \n"
     ]
    }
   ],
   "source": [
    "mydict = corpora.Dictionary(reviews_words_tokenized)\n",
    "print(\"Total unique words:\")\n",
    "print(len(mydict.token2id))\n",
    "print(\"\\nSample data from dictionary:\")\n",
    "i = 0\n",
    "# Print top 4 (word, id) tuples\n",
    "for key in mydict.token2id.keys():\n",
    "    print(\"Word: {} - ID: {} \".format(key, mydict.token2id[key]))\n",
    "    if i == 3:\n",
    "        break\n",
    "    i += 1"
   ]
  },
  {
   "cell_type": "markdown",
   "id": "ba4bb06d",
   "metadata": {},
   "source": [
    "Train-Test-Validation Split"
   ]
  },
  {
   "cell_type": "code",
   "execution_count": 48,
   "id": "d58639ca",
   "metadata": {},
   "outputs": [
    {
     "name": "stdout",
     "output_type": "stream",
     "text": [
      "['aaron' 'abandon' 'abandoned' ... 'zoom' 'zorro' 'zu']\n",
      "br               91696\n",
      "movie            39676\n",
      "film             36148\n",
      "one              24134\n",
      "like             18173\n",
      "                 ...  \n",
      "charity             27\n",
      "misfits             27\n",
      "domination          27\n",
      "archaeologist       27\n",
      "willem              27\n",
      "Length: 10000, dtype: int64\n"
     ]
    },
    {
     "data": {
      "image/png": "[encoded data removed]",
      "text/plain": [
       "<Figure size 640x480 with 1 Axes>"
      ]
     },
     "metadata": {},
     "output_type": "display_data"
    },
    {
     "name": "stdout",
     "output_type": "stream",
     "text": [
      "Shape of X_train_temp_tfidf: (22500, 10000)\n"
     ]
    },
    {
     "data": {
      "image/png": "[encoded data removed]",
      "text/plain": [
       "<Figure size 640x480 with 1 Axes>"
      ]
     },
     "metadata": {},
     "output_type": "display_data"
    }
   ],
   "source": [
    "X_train_temp, X_temp, y_train_temp, y_temp = train_test_split(cleaned_reviews, Y, test_size=0.1, random_state=42)\n",
    "X_val, X_test, y_val, y_test = train_test_split(X_temp, y_temp, test_size=0.5, random_state=42)\n",
    "\n",
    "vectorizer = CountVectorizer(max_features=10000, stop_words=stop_words)\n",
    "#Vectorizing train data\n",
    "count_matrix = vectorizer.fit_transform(X_train_temp)\n",
    "X_train_temp_count = count_matrix.toarray()\n",
    "\n",
    "df_count_vectorizer = pd.DataFrame(data=X_train_temp_count, columns = vectorizer.get_feature_names_out())\n",
    "print(vectorizer.get_feature_names_out())\n",
    "\n",
    "word_frequencies = df_count_vectorizer.sum(axis=0).sort_values(ascending=False)\n",
    "print(word_frequencies)\n",
    "\n",
    "word_frequencies.head(10).plot(kind='bar')\n",
    "plt.title('Top 10 Most Frequent Words')\n",
    "plt.xlabel('Words')\n",
    "plt.ylabel('Frequency')\n",
    "plt.show()\n",
    "\n",
    "#TFIDF\n",
    "\n",
    "tfidf_vectorizer = TfidfVectorizer(max_features=10000, analyzer='word' , stop_words=stop_words)\n",
    "tfidf_matrix = tfidf_vectorizer.fit_transform(X_train_temp)\n",
    "X_train_temp_tfidf = tfidf_matrix.toarray()\n",
    "\n",
    "print(\"Shape of X_train_temp_tfidf:\", X_train_temp_tfidf.shape)\n",
    "\n",
    "#Vectorizing validation and test data\n",
    "X_val_tfidf = tfidf_vectorizer.transform(X_val)\n",
    "X_test_tfidf = tfidf_vectorizer.transform(X_test)\n",
    "\n",
    "df_tfid = pd.DataFrame(data=X_train_temp_tfidf, columns = tfidf_vectorizer.get_feature_names_out())\n",
    "tfidf_words = df_tfid.sum(axis=0).sort_values(ascending=False)\n",
    "\n",
    "tfidf_words.head(10).plot(kind='bar')\n",
    "plt.title('Top 10 Words TFIDF')\n",
    "plt.xlabel('Words')\n",
    "plt.ylabel('Word Weight')\n",
    "plt.show()"
   ]
  },
  {
   "cell_type": "markdown",
   "id": "a648d53a",
   "metadata": {},
   "source": [
    "Sigmoid activation function"
   ]
  },
  {
   "cell_type": "code",
   "execution_count": 7,
   "id": "bf4527e6",
   "metadata": {},
   "outputs": [
    {
     "data": {
      "image/png": "[encoded data removed]",
      "text/plain": [
       "<Figure size 640x480 with 1 Axes>"
      ]
     },
     "metadata": {},
     "output_type": "display_data"
    }
   ],
   "source": [
    "def sig(x):\n",
    " return 1/(1 + np.exp(-x))\n",
    "\n",
    "x = np.linspace(-10, 10, 50)   \n",
    "p = sig(x)\n",
    "plt.xlabel(\"x\") \n",
    "plt.ylabel(\"Sigmoid(x)\")  \n",
    "plt.plot(x, p) \n",
    "plt.show()"
   ]
  },
  {
   "cell_type": "markdown",
   "id": "44203064",
   "metadata": {},
   "source": [
    "Neural Network Structure"
   ]
  },
  {
   "cell_type": "code",
   "execution_count": 49,
   "id": "72421e0f",
   "metadata": {},
   "outputs": [],
   "source": [
    "def layer_sizes(X,Y):\n",
    "    n_x = X.shape[0]\n",
    "    n_y = Y.shape[0]\n",
    "\n",
    "    return(n_x, n_y)\n"
   ]
  },
  {
   "cell_type": "markdown",
   "id": "0f82cd9d",
   "metadata": {},
   "source": [
    "Parameter initialization"
   ]
  },
  {
   "cell_type": "code",
   "execution_count": 50,
   "id": "fe993686",
   "metadata": {},
   "outputs": [],
   "source": [
    "def initialize_parameters(n_x, n_h, n_y):\n",
    "    \n",
    "    #*0.01 too decrease the learning time\n",
    "    W1 = np.random.randn(n_h, n_x)*0.01\n",
    "    b1 = np.zeros((n_h, 1))\n",
    "    W2 = np.random.randn(n_y, n_h)*0.01\n",
    "    b2 = np.zeros((n_y, 1))\n",
    "\n",
    "    parameters = {\n",
    "        \"W1\": W1,\n",
    "        \"b1\": b1,\n",
    "        \"W2\": W2,\n",
    "        \"b2\": b2,\n",
    "    }\n",
    "\n",
    "    return parameters"
   ]
  },
  {
   "cell_type": "markdown",
   "id": "6a20e109",
   "metadata": {},
   "source": [
    "Forward propagation"
   ]
  },
  {
   "cell_type": "markdown",
   "id": "56168671",
   "metadata": {},
   "source": [
    "![title](forward_propagation.png) \n",
    "\n",
    "Source: https://medium.com/@pdquant/all-the-backpropagation-derivatives-d5275f727f60\n",
    "\n",
    "![title](sigmoid.png)\n",
    "Source: https://en.wikipedia.org/wiki/Sigmoid_function"
   ]
  },
  {
   "cell_type": "code",
   "execution_count": 51,
   "id": "4c5cb166",
   "metadata": {},
   "outputs": [],
   "source": [
    "def forward_propagation(X, parameters):\n",
    "    W1 = parameters['W1']\n",
    "    b1 = parameters['b1']\n",
    "    W2 = parameters['W2']\n",
    "    b2 = parameters['b2']\n",
    "\n",
    "    Z1 = np.dot(W1, X) + b1\n",
    "    #Tanh activation function (hyperbolic tangent), result between -1 and 1\n",
    "    A1 = np.tanh(Z1)\n",
    "    Z2 = np.dot(W2, A1) + b2\n",
    "    #Sigmoid activation function, result between 0 and 1\n",
    "    A2 = 1 / (1 + np.exp(-Z2))\n",
    "\n",
    "    cache = {\n",
    "        'Z1': Z1,\n",
    "        'A1': A1,\n",
    "        'Z2': Z2,\n",
    "        'A2': A2\n",
    "    }\n",
    "\n",
    "    return A2, cache"
   ]
  },
  {
   "cell_type": "markdown",
   "id": "8c77a3c0",
   "metadata": {},
   "source": [
    "Cost function"
   ]
  },
  {
   "cell_type": "code",
   "execution_count": 52,
   "id": "1ab27d0f",
   "metadata": {},
   "outputs": [],
   "source": [
    "def compute_cost(A2, Y):\n",
    "    m = Y.shape[1]\n",
    "\n",
    "    logprobs = np.multiply(np.log(A2), Y) + np.multiply((1-Y), np.log(1-A2))\n",
    "    cost = - np.sum(logprobs) / m\n",
    "\n",
    "    cost = float(np.squeeze(cost))\n",
    "\n",
    "    return cost"
   ]
  },
  {
   "cell_type": "markdown",
   "id": "082e7b65",
   "metadata": {},
   "source": [
    "Backward propagation"
   ]
  },
  {
   "cell_type": "markdown",
   "id": "8b433d8b",
   "metadata": {},
   "source": [
    "![title](derivatives.png) \n",
    "\n",
    "Image taken from: https://medium.com/@pdquant/all-the-backpropagation-derivatives-d5275f727f60"
   ]
  },
  {
   "cell_type": "code",
   "execution_count": 53,
   "id": "0580c826",
   "metadata": {},
   "outputs": [],
   "source": [
    "def backward_propagation(parameters, cache, X, Y):\n",
    "    \n",
    "    m = Y.shape[1]\n",
    "\n",
    "    W1 = parameters['W1']\n",
    "    A1 = cache['A1']\n",
    "    W2 = parameters['W2']\n",
    "    A2 = cache['A2']\n",
    "\n",
    "    dZ2 = A2 - Y\n",
    "    dW2 = (1/m) * np.dot(dZ2, A1.T)\n",
    "    db2 = (1/m) * np.sum(dZ2, axis=1, keepdims=True)\n",
    "\n",
    "    dZ1 = np.dot(W2.T, dZ2)*(1 - np.power(A1, 2))\n",
    "    #X is used instead of A1 because W[1]W[1] connects the input layer directly to the first hidden layer\n",
    "    dW1 = (1/m) * np.dot(dZ1, X.T)\n",
    "    db1 = (1/m) * np.sum(dZ1, axis=1, keepdims=True)\n",
    "\n",
    "    grads = {'dW1': dW1,'db1': db1,'dW2': dW2,'db2': db2,}\n",
    "    return grads"
   ]
  },
  {
   "cell_type": "markdown",
   "id": "b9a58abf",
   "metadata": {},
   "source": [
    "Gradient descent"
   ]
  },
  {
   "cell_type": "code",
   "execution_count": 54,
   "id": "3c66980b",
   "metadata": {},
   "outputs": [],
   "source": [
    "def update_parameters(parameters, grads, learning_rate):\n",
    "    W1 = parameters['W1']\n",
    "    b1 = parameters['b1']\n",
    "    W2 = parameters['W2']\n",
    "    b2 = parameters['b2']\n",
    "\n",
    "    dW1 = grads['dW1']\n",
    "    db1 = grads['db1']\n",
    "    dW2 = grads['dW2']\n",
    "    db2 = grads['db2']\n",
    "\n",
    "    W1 = W1 - learning_rate * dW1\n",
    "    b1 = b1 - learning_rate * db1\n",
    "    W2 = W2 - learning_rate * dW2\n",
    "    b2 = b2 - learning_rate * db2\n",
    "\n",
    "    parameters = {\n",
    "        \"W1\": W1,\n",
    "        \"b1\": b1,\n",
    "        \"W2\": W2,\n",
    "        \"b2\": b2\n",
    "    }\n",
    "    \n",
    "    return parameters\n"
   ]
  },
  {
   "cell_type": "markdown",
   "id": "b0aa5527",
   "metadata": {},
   "source": [
    "Neural Network Model"
   ]
  },
  {
   "cell_type": "code",
   "execution_count": 60,
   "id": "bf72969a",
   "metadata": {},
   "outputs": [],
   "source": [
    "#n_h - number of hidden layers\n",
    "\n",
    "def nn_model(X, Y, n_h, num_iterations, print_cost, learning_rate):\n",
    "    \n",
    "    print(Y.shape)\n",
    "    print(X.shape) \n",
    "\n",
    "\n",
    "    n_x = X.shape[1] # Number of features\n",
    "    n_y = Y.shape[1] # Number of output units\n",
    "\n",
    "    parameters = initialize_parameters(n_x, n_h, n_y)\n",
    "\n",
    "    for i in range(0, num_iterations):\n",
    "        #forward propagation\n",
    "        A2, cache = forward_propagation(X.T, parameters)\n",
    "        #cost function\n",
    "        cost = compute_cost(A2, Y)\n",
    "        #Backpropagation\n",
    "        grads = backward_propagation(parameters, cache, X.T, Y.T)\n",
    "        #Gradient descent\n",
    "        parameters = update_parameters(parameters, grads, learning_rate)\n",
    "\n",
    "        if print_cost and i % 1000 == 0:\n",
    "            print(f'Cost after iteration {i}: {cost}')\n",
    "    return parameters"
   ]
  },
  {
   "cell_type": "code",
   "execution_count": 92,
   "id": "0f44e280",
   "metadata": {},
   "outputs": [
    {
     "name": "stdout",
     "output_type": "stream",
     "text": [
      "(22500, 1)\n",
      "(22500, 10000)\n",
      "Cost after iteration 0: 350905754.2551034\n"
     ]
    }
   ],
   "source": [
    "parameters = nn_model(X_train_temp_tfidf, y_train_temp, n_h =1, num_iterations=100, learning_rate=1, print_cost=True)"
   ]
  },
  {
   "cell_type": "markdown",
   "id": "a487ee41",
   "metadata": {},
   "source": [
    "Prediction function"
   ]
  },
  {
   "cell_type": "code",
   "execution_count": 102,
   "id": "07c32b8f",
   "metadata": {},
   "outputs": [],
   "source": [
    "def predict(parameters, X):\n",
    "    A2, cache = forward_propagation(X.T, parameters)\n",
    "    prediction = A2>0.5\n",
    "    return prediction"
   ]
  },
  {
   "cell_type": "markdown",
   "id": "57095788",
   "metadata": {},
   "source": [
    "Review predictions"
   ]
  },
  {
   "cell_type": "code",
   "execution_count": 111,
   "id": "6db91c93",
   "metadata": {},
   "outputs": [
    {
     "name": "stdout",
     "output_type": "stream",
     "text": [
      "Accuracy: 0.4936\n",
      "Precision_score: 0.0\n",
      "recall_score: 0.0\n",
      "f1_score: 0.0\n"
     ]
    },
    {
     "name": "stderr",
     "output_type": "stream",
     "text": [
      "c:\\Users\\kubak\\AppData\\Local\\Programs\\Python\\Python311\\Lib\\site-packages\\sklearn\\metrics\\_classification.py:1509: UndefinedMetricWarning: Precision is ill-defined and being set to 0.0 due to no predicted samples. Use `zero_division` parameter to control this behavior.\n",
      "  _warn_prf(average, modifier, f\"{metric.capitalize()} is\", len(result))\n"
     ]
    }
   ],
   "source": [
    "from sklearn.metrics import accuracy_score, precision_score, recall_score, f1_score\n",
    "\n",
    "predictions = predict(parameters, X_val_tfidf.toarray())\n",
    "accuracy = accuracy_score(y_val, predictions[0])\n",
    "precision_score = precision_score(y_val, predictions[0])\n",
    "recall_score = recall_score(y_val, predictions[0])\n",
    "f1_score = f1_score(y_val, predictions[0])\n",
    "print(f'Accuracy: {accuracy}')\n",
    "print(f'Precision_score: {precision_score}')\n",
    "print(f'recall_score: {recall_score}')\n",
    "print(f'f1_score: {f1_score}')"
   ]
  },
  {
   "cell_type": "markdown",
   "id": "02f6f116",
   "metadata": {},
   "source": [
    "Accuracy for num_iterations=1 - 0.4936"
   ]
  },
  {
   "cell_type": "markdown",
   "id": "691c2fe9",
   "metadata": {},
   "source": [
    "Random review predictions"
   ]
  },
  {
   "cell_type": "code",
   "execution_count": 83,
   "id": "66ecec8d",
   "metadata": {},
   "outputs": [
    {
     "name": "stdout",
     "output_type": "stream",
     "text": [
      "Shape of random_reviews_tfidf: (3, 10000)\n",
      "[[False False False]]\n"
     ]
    }
   ],
   "source": [
    "random_reviews = ['It was not bad at all', 'It was bad', 'It was absolutely freaking awesome']\n",
    "random_reviews_tfidf = tfidf_vectorizer.transform(random_reviews)\n",
    "\n",
    "#print(\"Shape of X_val_tfidf:\", X_val_tfidf.shape)\n",
    "print(\"Shape of random_reviews_tfidf:\", random_reviews_tfidf.shape)\n",
    "\n",
    "predictions = predict(parameters, random_reviews_tfidf.toarray())\n",
    "print(predictions)\n"
   ]
  }
 ],
 "metadata": {
  "kernelspec": {
   "display_name": "Python 3 (ipykernel)",
   "language": "python",
   "name": "python3"
  },
  "language_info": {
   "codemirror_mode": {
    "name": "ipython",
    "version": 3
   },
   "file_extension": ".py",
   "mimetype": "text/x-python",
   "name": "python",
   "nbconvert_exporter": "python",
   "pygments_lexer": "ipython3",
   "version": "3.11.5"
  }
 },
 "nbformat": 4,
 "nbformat_minor": 5
}
